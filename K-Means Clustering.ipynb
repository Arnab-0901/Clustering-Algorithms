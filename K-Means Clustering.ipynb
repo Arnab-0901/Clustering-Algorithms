{
 "cells": [
  {
   "cell_type": "markdown",
   "metadata": {},
   "source": [
    "<h4>Importing LIbraries</h4>"
   ]
  },
  {
   "cell_type": "code",
   "execution_count": 25,
   "metadata": {},
   "outputs": [],
   "source": [
    "import math\n",
    "import numpy as np\n",
    "import matplotlib\n",
    "import pandas as pd\n",
    "%matplotlib inline\n",
    "import matplotlib.pyplot as plt\n",
    "import random"
   ]
  },
  {
   "cell_type": "markdown",
   "metadata": {},
   "source": [
    "<h4>Making A Dataframe on which k-means clustering is Performed</h4>"
   ]
  },
  {
   "cell_type": "code",
   "execution_count": 26,
   "metadata": {},
   "outputs": [],
   "source": [
    "X1=[1,1,0,2,5,6,4,5]\n",
    "X2=[4,3,4,5,1,2,0,2]\n",
    "G=[1,1,2,2,1,2,1,2]\n",
    "\n",
    "info=pd.DataFrame(list(zip(X1, X2, G)),columns=['X1','X2','G'])"
   ]
  },
  {
   "cell_type": "markdown",
   "metadata": {},
   "source": [
    "<h4>Defining Functions</h4>"
   ]
  },
  {
   "cell_type": "code",
   "execution_count": 27,
   "metadata": {},
   "outputs": [],
   "source": [
    "#Function to calculate Centroid\n",
    "def cal_centroid(data):\n",
    "    x=data.mean()\n",
    "    return x"
   ]
  },
  {
   "cell_type": "code",
   "execution_count": 28,
   "metadata": {},
   "outputs": [],
   "source": [
    "#Separating data points of each cluster\n",
    "def assign_g(data):\n",
    "    one_g=[]\n",
    "    two_g=[]\n",
    "    new_data=data.iloc[:,:-1]\n",
    "    for i in range(len(data)):\n",
    "        if data['G'][i]==1:\n",
    "            one_g.append(new_data.iloc[i,:])\n",
    "        else:\n",
    "            two_g.append(new_data.iloc[i,:])\n",
    "    one = pd.DataFrame(one_g)\n",
    "    two = pd.DataFrame(two_g)\n",
    "    return (one,two)"
   ]
  },
  {
   "cell_type": "code",
   "execution_count": 29,
   "metadata": {},
   "outputs": [],
   "source": [
    "#Creating Clusters acoording to k-Means Clustering Algorithm\n",
    "def new_grp(data):\n",
    "    one_val=[]\n",
    "    two_val=[]\n",
    "    check_data=data.iloc[:,-1]\n",
    "    final_data=data\n",
    "    new_data=data.iloc[:,:-1]\n",
    "    one,two=assign_g(data)\n",
    "    centroid1=cal_centroid(one)\n",
    "    centroid2=cal_centroid(two)\n",
    "    for i in range(len(data)):\n",
    "        c1=centroid1-new_data.iloc[i,:]\n",
    "        c1=c1**2\n",
    "        c1=np.sqrt(sum(c1))\n",
    "        one_val.append(c1)\n",
    "        \n",
    "        c2=centroid2-new_data.iloc[i,:]\n",
    "        c2=c2**2\n",
    "        c2=np.sqrt(sum(c2))\n",
    "        two_val.append(c2)\n",
    "    \n",
    "    for i in range(len(one_val)):\n",
    "        if one_val[i]<two_val[i]:\n",
    "            final_data.iloc[i,:]['G']=1\n",
    "        else:\n",
    "            final_data.iloc[i,:]['G']=2\n",
    "\n",
    "    return final_data,check_data"
   ]
  },
  {
   "cell_type": "code",
   "execution_count": 30,
   "metadata": {},
   "outputs": [],
   "source": [
    "#Plotting the CLusters\n",
    "def plot_grp(one,two,c1,c2):\n",
    "    c1=c1.to_frame()\n",
    "    c1=c1.transpose()\n",
    "    c2=c2.to_frame()\n",
    "    c2=c2.transpose()\n",
    "    plt.figure(figsize=(15,5))\n",
    "    ax1=one.plot.scatter(x='X1',y='X2', figsize=(15,6),label='Cluster 1')\n",
    "    ax2=two.plot.scatter(x='X1',y='X2', figsize=(15,6), ax=ax1,color='red',label='Cluster 2')\n",
    "    ax3=c1.plot.scatter(x='X1',y='X2', figsize=(15,6), ax=ax1,color='green', label='Centroid 2')\n",
    "    ax3=c2.plot.scatter(x='X1',y='X2', figsize=(15,6), ax=ax1,color='pink',label='Centroid 1')"
   ]
  },
  {
   "cell_type": "code",
   "execution_count": 31,
   "metadata": {},
   "outputs": [],
   "source": [
    "#iterating until get the final Clusters\n",
    "def iter_centroid(info):\n",
    "    l=[0,0,0,0,0,0,0,0]\n",
    "    prev_g=pd.Series(l)\n",
    "    for i in range(0,1000):\n",
    "        info,present_g=new_grp(info)\n",
    "        if present_g.equals(prev_g):\n",
    "            one,two=assign_g(info)\n",
    "            centroid1=cal_centroid(one)\n",
    "            centroid2=cal_centroid(two)\n",
    "            plot_grp(one,two,centroid1,centroid2)\n",
    "            break\n",
    "        else:\n",
    "            prev_g=present_g"
   ]
  },
  {
   "cell_type": "code",
   "execution_count": 32,
   "metadata": {},
   "outputs": [
    {
     "name": "stdout",
     "output_type": "stream",
     "text": [
      "Before Implementing K-means Clustering\n"
     ]
    },
    {
     "data": {
      "text/plain": [
       "<Figure size 1080x360 with 0 Axes>"
      ]
     },
     "metadata": {},
     "output_type": "display_data"
    },
    {
     "data": {
      "image/png": "[encoded data removed]",
      "text/plain": [
       "<Figure size 1080x432 with 1 Axes>"
      ]
     },
     "metadata": {
      "needs_background": "light"
     },
     "output_type": "display_data"
    }
   ],
   "source": [
    "print('Before Implementing K-means Clustering')\n",
    "one,two=assign_g(info)\n",
    "centroid1=cal_centroid(one)\n",
    "centroid2=cal_centroid(two)\n",
    "plot_grp(one,two,centroid1,centroid2)"
   ]
  },
  {
   "cell_type": "code",
   "execution_count": 33,
   "metadata": {},
   "outputs": [
    {
     "name": "stdout",
     "output_type": "stream",
     "text": [
      "After Implementing K-means Clustering\n"
     ]
    },
    {
     "data": {
      "text/plain": [
       "<Figure size 1080x360 with 0 Axes>"
      ]
     },
     "metadata": {},
     "output_type": "display_data"
    },
    {
     "data": {
      "image/png": "[encoded data removed]",
      "text/plain": [
       "<Figure size 1080x432 with 1 Axes>"
      ]
     },
     "metadata": {
      "needs_background": "light"
     },
     "output_type": "display_data"
    }
   ],
   "source": [
    "print('After Implementing K-means Clustering')\n",
    "iter_centroid(info)"
   ]
  }
 ],
 "metadata": {
  "kernelspec": {
   "display_name": "Python 3",
   "language": "python",
   "name": "python3"
  },
  "language_info": {
   "codemirror_mode": {
    "name": "ipython",
    "version": 3
   },
   "file_extension": ".py",
   "mimetype": "text/x-python",
   "name": "python",
   "nbconvert_exporter": "python",
   "pygments_lexer": "ipython3",
   "version": "3.7.4"
  }
 },
 "nbformat": 4,
 "nbformat_minor": 2
}
