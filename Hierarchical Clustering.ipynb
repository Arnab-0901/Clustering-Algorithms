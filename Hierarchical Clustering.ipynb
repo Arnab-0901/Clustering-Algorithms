{
 "cells": [
  {
   "cell_type": "markdown",
   "metadata": {},
   "source": [
    "<h4>Importing Libraries</h4>"
   ]
  },
  {
   "cell_type": "code",
   "execution_count": 22,
   "metadata": {},
   "outputs": [],
   "source": [
    "import numpy as np\n",
    "import matplotlib\n",
    "import matplotlib.pyplot as plt\n",
    "import pandas as pd"
   ]
  },
  {
   "cell_type": "markdown",
   "metadata": {},
   "source": [
    "<h4>Making A Dataframe on which k-means clustering is Performed</h4>"
   ]
  },
  {
   "cell_type": "code",
   "execution_count": 23,
   "metadata": {},
   "outputs": [],
   "source": [
    "X1=[1,1,0,2,5,6,4,5]\n",
    "X2=[4,3,4,5,1,2,0,2]\n",
    "G=[1,1,2,2,1,2,1,2]\n",
    "\n",
    "data=pd.DataFrame(list(zip(X1, X2, G)),columns=['X1','X2','G'])"
   ]
  },
  {
   "cell_type": "code",
   "execution_count": 24,
   "metadata": {},
   "outputs": [
    {
     "data": {
      "text/html": [
       "<div>\n",
       "<style scoped>\n",
       "    .dataframe tbody tr th:only-of-type {\n",
       "        vertical-align: middle;\n",
       "    }\n",
       "\n",
       "    .dataframe tbody tr th {\n",
       "        vertical-align: top;\n",
       "    }\n",
       "\n",
       "    .dataframe thead th {\n",
       "        text-align: right;\n",
       "    }\n",
       "</style>\n",
       "<table border=\"1\" class=\"dataframe\">\n",
       "  <thead>\n",
       "    <tr style=\"text-align: right;\">\n",
       "      <th></th>\n",
       "      <th>X1</th>\n",
       "      <th>X2</th>\n",
       "      <th>G</th>\n",
       "    </tr>\n",
       "  </thead>\n",
       "  <tbody>\n",
       "    <tr>\n",
       "      <td>0</td>\n",
       "      <td>1</td>\n",
       "      <td>4</td>\n",
       "      <td>1</td>\n",
       "    </tr>\n",
       "    <tr>\n",
       "      <td>1</td>\n",
       "      <td>1</td>\n",
       "      <td>3</td>\n",
       "      <td>1</td>\n",
       "    </tr>\n",
       "    <tr>\n",
       "      <td>2</td>\n",
       "      <td>0</td>\n",
       "      <td>4</td>\n",
       "      <td>2</td>\n",
       "    </tr>\n",
       "    <tr>\n",
       "      <td>3</td>\n",
       "      <td>2</td>\n",
       "      <td>5</td>\n",
       "      <td>2</td>\n",
       "    </tr>\n",
       "    <tr>\n",
       "      <td>4</td>\n",
       "      <td>5</td>\n",
       "      <td>1</td>\n",
       "      <td>1</td>\n",
       "    </tr>\n",
       "    <tr>\n",
       "      <td>5</td>\n",
       "      <td>6</td>\n",
       "      <td>2</td>\n",
       "      <td>2</td>\n",
       "    </tr>\n",
       "    <tr>\n",
       "      <td>6</td>\n",
       "      <td>4</td>\n",
       "      <td>0</td>\n",
       "      <td>1</td>\n",
       "    </tr>\n",
       "    <tr>\n",
       "      <td>7</td>\n",
       "      <td>5</td>\n",
       "      <td>2</td>\n",
       "      <td>2</td>\n",
       "    </tr>\n",
       "  </tbody>\n",
       "</table>\n",
       "</div>"
      ],
      "text/plain": [
       "   X1  X2  G\n",
       "0   1   4  1\n",
       "1   1   3  1\n",
       "2   0   4  2\n",
       "3   2   5  2\n",
       "4   5   1  1\n",
       "5   6   2  2\n",
       "6   4   0  1\n",
       "7   5   2  2"
      ]
     },
     "execution_count": 24,
     "metadata": {},
     "output_type": "execute_result"
    }
   ],
   "source": [
    "data"
   ]
  },
  {
   "cell_type": "code",
   "execution_count": 25,
   "metadata": {},
   "outputs": [],
   "source": [
    "#Clustering is performed based on Euclidean Distance\n",
    "def euc_dist(one,two):\n",
    "    dist=np.square(one-two)\n",
    "    dist=sum(dist)\n",
    "    dist=np.sqrt(dist)\n",
    "    dist=round(dist, 2)\n",
    "    return dist "
   ]
  },
  {
   "cell_type": "code",
   "execution_count": 26,
   "metadata": {},
   "outputs": [],
   "source": [
    "x=data.index\n",
    "store_data=pd.DataFrame(columns=x)\n",
    "zero_series=pd.Series(np.zeros(len(x)))\n",
    "for i in range(len(x)):\n",
    "    store_data=store_data.append(pd.Series(),ignore_index=True)"
   ]
  },
  {
   "cell_type": "code",
   "execution_count": 27,
   "metadata": {},
   "outputs": [
    {
     "data": {
      "text/html": [
       "<div>\n",
       "<style scoped>\n",
       "    .dataframe tbody tr th:only-of-type {\n",
       "        vertical-align: middle;\n",
       "    }\n",
       "\n",
       "    .dataframe tbody tr th {\n",
       "        vertical-align: top;\n",
       "    }\n",
       "\n",
       "    .dataframe thead th {\n",
       "        text-align: right;\n",
       "    }\n",
       "</style>\n",
       "<table border=\"1\" class=\"dataframe\">\n",
       "  <thead>\n",
       "    <tr style=\"text-align: right;\">\n",
       "      <th></th>\n",
       "      <th>0</th>\n",
       "      <th>1</th>\n",
       "      <th>2</th>\n",
       "      <th>3</th>\n",
       "      <th>4</th>\n",
       "      <th>5</th>\n",
       "      <th>6</th>\n",
       "      <th>7</th>\n",
       "    </tr>\n",
       "  </thead>\n",
       "  <tbody>\n",
       "    <tr>\n",
       "      <td>0</td>\n",
       "      <td>NaN</td>\n",
       "      <td>NaN</td>\n",
       "      <td>NaN</td>\n",
       "      <td>NaN</td>\n",
       "      <td>NaN</td>\n",
       "      <td>NaN</td>\n",
       "      <td>NaN</td>\n",
       "      <td>NaN</td>\n",
       "    </tr>\n",
       "    <tr>\n",
       "      <td>1</td>\n",
       "      <td>NaN</td>\n",
       "      <td>NaN</td>\n",
       "      <td>NaN</td>\n",
       "      <td>NaN</td>\n",
       "      <td>NaN</td>\n",
       "      <td>NaN</td>\n",
       "      <td>NaN</td>\n",
       "      <td>NaN</td>\n",
       "    </tr>\n",
       "    <tr>\n",
       "      <td>2</td>\n",
       "      <td>NaN</td>\n",
       "      <td>NaN</td>\n",
       "      <td>NaN</td>\n",
       "      <td>NaN</td>\n",
       "      <td>NaN</td>\n",
       "      <td>NaN</td>\n",
       "      <td>NaN</td>\n",
       "      <td>NaN</td>\n",
       "    </tr>\n",
       "    <tr>\n",
       "      <td>3</td>\n",
       "      <td>NaN</td>\n",
       "      <td>NaN</td>\n",
       "      <td>NaN</td>\n",
       "      <td>NaN</td>\n",
       "      <td>NaN</td>\n",
       "      <td>NaN</td>\n",
       "      <td>NaN</td>\n",
       "      <td>NaN</td>\n",
       "    </tr>\n",
       "    <tr>\n",
       "      <td>4</td>\n",
       "      <td>NaN</td>\n",
       "      <td>NaN</td>\n",
       "      <td>NaN</td>\n",
       "      <td>NaN</td>\n",
       "      <td>NaN</td>\n",
       "      <td>NaN</td>\n",
       "      <td>NaN</td>\n",
       "      <td>NaN</td>\n",
       "    </tr>\n",
       "    <tr>\n",
       "      <td>5</td>\n",
       "      <td>NaN</td>\n",
       "      <td>NaN</td>\n",
       "      <td>NaN</td>\n",
       "      <td>NaN</td>\n",
       "      <td>NaN</td>\n",
       "      <td>NaN</td>\n",
       "      <td>NaN</td>\n",
       "      <td>NaN</td>\n",
       "    </tr>\n",
       "    <tr>\n",
       "      <td>6</td>\n",
       "      <td>NaN</td>\n",
       "      <td>NaN</td>\n",
       "      <td>NaN</td>\n",
       "      <td>NaN</td>\n",
       "      <td>NaN</td>\n",
       "      <td>NaN</td>\n",
       "      <td>NaN</td>\n",
       "      <td>NaN</td>\n",
       "    </tr>\n",
       "    <tr>\n",
       "      <td>7</td>\n",
       "      <td>NaN</td>\n",
       "      <td>NaN</td>\n",
       "      <td>NaN</td>\n",
       "      <td>NaN</td>\n",
       "      <td>NaN</td>\n",
       "      <td>NaN</td>\n",
       "      <td>NaN</td>\n",
       "      <td>NaN</td>\n",
       "    </tr>\n",
       "  </tbody>\n",
       "</table>\n",
       "</div>"
      ],
      "text/plain": [
       "     0    1    2    3    4    5    6    7\n",
       "0  NaN  NaN  NaN  NaN  NaN  NaN  NaN  NaN\n",
       "1  NaN  NaN  NaN  NaN  NaN  NaN  NaN  NaN\n",
       "2  NaN  NaN  NaN  NaN  NaN  NaN  NaN  NaN\n",
       "3  NaN  NaN  NaN  NaN  NaN  NaN  NaN  NaN\n",
       "4  NaN  NaN  NaN  NaN  NaN  NaN  NaN  NaN\n",
       "5  NaN  NaN  NaN  NaN  NaN  NaN  NaN  NaN\n",
       "6  NaN  NaN  NaN  NaN  NaN  NaN  NaN  NaN\n",
       "7  NaN  NaN  NaN  NaN  NaN  NaN  NaN  NaN"
      ]
     },
     "execution_count": 27,
     "metadata": {},
     "output_type": "execute_result"
    }
   ],
   "source": [
    "#Dataframe store_data is created to store initial euclidean distances between data points\n",
    "store_data"
   ]
  },
  {
   "cell_type": "code",
   "execution_count": 28,
   "metadata": {},
   "outputs": [],
   "source": [
    "#Save euclidean distance between data points in Dataframe\n",
    "def make_table(data):\n",
    "    x=data.index\n",
    "    store_data=pd.DataFrame(columns=x)\n",
    "    zero_series=pd.Series(np.zeros(len(x)))\n",
    "    for i in range(len(x)):\n",
    "        store_data=store_data.append(pd.Series(),ignore_index=True)\n",
    "    for i in range(len(data)):\n",
    "        d=data.iloc[i,:]\n",
    "        new_data=data.iloc[(i+1):,:]\n",
    "        lst=new_data.index.tolist()\n",
    "        for j in lst:\n",
    "            var=new_data.loc[j,:]\n",
    "            diff=euc_dist(d,var)\n",
    "            store_data.loc[i,j]=diff\n",
    "            store_data.loc[j,i]=diff\n",
    "\n",
    "    return store_data    "
   ]
  },
  {
   "cell_type": "code",
   "execution_count": 29,
   "metadata": {},
   "outputs": [],
   "source": [
    "#Perform Single Link Hierarchical CLustering\n",
    "def single_link(table):\n",
    "    x=table.min().idxmin()\n",
    "    y_series=table.loc[table.min().idxmin(),:]\n",
    "    y=y_series[y_series==y_series.min()].index.tolist()\n",
    "    y=y[0]\n",
    "    index_val=table.index.tolist()\n",
    "    index_val.remove(x)\n",
    "    index_val.remove(y)\n",
    "    index_val.append('['+str(x)+','+str(y)+']')\n",
    "    new_table=pd.DataFrame(columns=index_val)\n",
    "    for i in range(len(index_val)):\n",
    "        new_table=new_table.append(pd.Series(name=index_val[i]))\n",
    "    new_index=index_val.copy()\n",
    "    for i in index_val:\n",
    "        if i!='['+str(x)+','+str(y)+']':\n",
    "            d=table.loc[i,:]\n",
    "        new_index.remove(i)\n",
    "        for j in new_index:\n",
    "            if (i!='['+str(x)+','+str(y)+']') and (j!='['+str(x)+','+str(y)+']'):\n",
    "                var=table.loc[j,:]\n",
    "                new_table.loc[i,j]=table.loc[i,j]\n",
    "                new_table.loc[j,i]=table.loc[j,i]\n",
    "            else:\n",
    "                new_val=table.loc[i,x]  if table.loc[i,x] < table.loc[i,y] else table.loc[i,y]\n",
    "                new_table.loc[i,j]=new_val\n",
    "                new_table.loc[j,i]=new_val\n",
    "    return new_table"
   ]
  },
  {
   "cell_type": "code",
   "execution_count": 30,
   "metadata": {},
   "outputs": [],
   "source": [
    "#Perform Hierarchical CLustering until the final cluster is found\n",
    "def hier_cluster(data):\n",
    "    table=make_table(data)\n",
    "    while len(table)>1:\n",
    "        table=single_link(table)\n",
    "        print(table)\n",
    "    return table"
   ]
  },
  {
   "cell_type": "code",
   "execution_count": 31,
   "metadata": {},
   "outputs": [
    {
     "name": "stdout",
     "output_type": "stream",
     "text": [
      "          2     3     4     5     6     7 [0,1]\n",
      "2       NaN  2.24  5.92  6.32  5.74  5.39  1.41\n",
      "3      2.24   NaN   5.1     5  5.48  4.24  1.73\n",
      "4      5.92   5.1   NaN  1.73  1.41  1.41  4.47\n",
      "5      6.32     5  1.73   NaN     3     1   5.2\n",
      "6      5.74  5.48  1.41     3   NaN  2.45  4.24\n",
      "7      5.39  4.24  1.41     1  2.45   NaN  4.24\n",
      "[0,1]  1.41  1.73  4.47   5.2  4.24  4.24   NaN\n",
      "          2     3     4     6 [0,1] [5,7]\n",
      "2       NaN  2.24  5.92  5.74  1.41  5.39\n",
      "3      2.24   NaN   5.1  5.48  1.73  4.24\n",
      "4      5.92   5.1   NaN  1.41  4.47  1.41\n",
      "6      5.74  5.48  1.41   NaN  4.24  2.45\n",
      "[0,1]  1.41  1.73  4.47  4.24   NaN  4.24\n",
      "[5,7]  5.39  4.24  1.41  2.45  4.24   NaN\n",
      "              3     4     6 [5,7] [2,[0,1]]\n",
      "3           NaN   5.1  5.48  4.24      1.73\n",
      "4           5.1   NaN  1.41  1.41      4.47\n",
      "6          5.48  1.41   NaN  2.45      4.24\n",
      "[5,7]      4.24  1.41  2.45   NaN      4.24\n",
      "[2,[0,1]]  1.73  4.47  4.24  4.24       NaN\n",
      "              3 [5,7] [2,[0,1]] [4,6]\n",
      "3           NaN  4.24      1.73   5.1\n",
      "[5,7]      4.24   NaN      4.24  1.41\n",
      "[2,[0,1]]  1.73  4.24       NaN  4.24\n",
      "[4,6]       5.1  1.41      4.24   NaN\n",
      "                  3 [2,[0,1]] [[5,7],[4,6]]\n",
      "3               NaN      1.73          4.24\n",
      "[2,[0,1]]      1.73       NaN          4.24\n",
      "[[5,7],[4,6]]  4.24      4.24           NaN\n",
      "              [[5,7],[4,6]] [3,[2,[0,1]]]\n",
      "[[5,7],[4,6]]           NaN          4.24\n",
      "[3,[2,[0,1]]]          4.24           NaN\n",
      "                              [[[5,7],[4,6]],[3,[2,[0,1]]]]\n",
      "[[[5,7],[4,6]],[3,[2,[0,1]]]]                           NaN\n"
     ]
    }
   ],
   "source": [
    "table=hier_cluster(data)"
   ]
  },
  {
   "cell_type": "code",
   "execution_count": 32,
   "metadata": {},
   "outputs": [
    {
     "data": {
      "text/html": [
       "<div>\n",
       "<style scoped>\n",
       "    .dataframe tbody tr th:only-of-type {\n",
       "        vertical-align: middle;\n",
       "    }\n",
       "\n",
       "    .dataframe tbody tr th {\n",
       "        vertical-align: top;\n",
       "    }\n",
       "\n",
       "    .dataframe thead th {\n",
       "        text-align: right;\n",
       "    }\n",
       "</style>\n",
       "<table border=\"1\" class=\"dataframe\">\n",
       "  <thead>\n",
       "    <tr style=\"text-align: right;\">\n",
       "      <th></th>\n",
       "      <th>[[[5,7],[4,6]],[3,[2,[0,1]]]]</th>\n",
       "    </tr>\n",
       "  </thead>\n",
       "  <tbody>\n",
       "    <tr>\n",
       "      <td>[[[5,7],[4,6]],[3,[2,[0,1]]]]</td>\n",
       "      <td>NaN</td>\n",
       "    </tr>\n",
       "  </tbody>\n",
       "</table>\n",
       "</div>"
      ],
      "text/plain": [
       "                              [[[5,7],[4,6]],[3,[2,[0,1]]]]\n",
       "[[[5,7],[4,6]],[3,[2,[0,1]]]]                           NaN"
      ]
     },
     "execution_count": 32,
     "metadata": {},
     "output_type": "execute_result"
    }
   ],
   "source": [
    "table"
   ]
  },
  {
   "cell_type": "code",
   "execution_count": 33,
   "metadata": {},
   "outputs": [
    {
     "name": "stdout",
     "output_type": "stream",
     "text": [
      "[[[5,7],[4,6]],[3,[2,[0,1]]]]\n"
     ]
    }
   ],
   "source": [
    "#Final Cluster\n",
    "print(table.index[0])"
   ]
  }
 ],
 "metadata": {
  "kernelspec": {
   "display_name": "Python 3",
   "language": "python",
   "name": "python3"
  },
  "language_info": {
   "codemirror_mode": {
    "name": "ipython",
    "version": 3
   },
   "file_extension": ".py",
   "mimetype": "text/x-python",
   "name": "python",
   "nbconvert_exporter": "python",
   "pygments_lexer": "ipython3",
   "version": "3.7.4"
  }
 },
 "nbformat": 4,
 "nbformat_minor": 2
}
